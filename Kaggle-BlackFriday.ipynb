{
 "cells": [
  {
   "cell_type": "markdown",
   "metadata": {
    "id": "LLYGsUPASoBg"
   },
   "source": [
    "Kaggle:https://www.kaggle.com/sdolezel/black-friday\n",
    "\n"
   ]
  },
  {
   "cell_type": "code",
   "execution_count": 117,
   "metadata": {
    "executionInfo": {
     "elapsed": 1384,
     "status": "ok",
     "timestamp": 1634575188142,
     "user": {
      "displayName": "真保勇佑",
      "photoUrl": "https://lh3.googleusercontent.com/a/default-user=s64",
      "userId": "05954062037845181310"
     },
     "user_tz": -540
    },
    "id": "1Bdc09hAPE3G"
   },
   "outputs": [],
   "source": [
    "# ライブラリのインポート  \n",
    "import pandas as pd\n",
    "import numpy as np\n",
    "import matplotlib.pyplot as plt\n",
    "import seaborn as sns\n",
    "import pickle\n",
    "from sklearn.preprocessing import LabelEncoder\n",
    "from sklearn.preprocessing import StandardScaler\n",
    "from sklearn.model_selection import train_test_split\n",
    "from sklearn.linear_model import LinearRegression\n",
    "from sklearn.tree import DecisionTreeRegressor\n",
    "from sklearn.ensemble import RandomForestRegressor\n",
    "from sklearn.metrics import mean_squared_error,r2_score"
   ]
  },
  {
   "cell_type": "code",
   "execution_count": 118,
   "metadata": {
    "colab": {
     "base_uri": "https://localhost:8080/",
     "height": 575
    },
    "executionInfo": {
     "elapsed": 1169,
     "status": "ok",
     "timestamp": 1634575189309,
     "user": {
      "displayName": "真保勇佑",
      "photoUrl": "https://lh3.googleusercontent.com/a/default-user=s64",
      "userId": "05954062037845181310"
     },
     "user_tz": -540
    },
    "id": "GesVVtOTP9NB",
    "outputId": "967b9617-06cb-4186-d83e-e7bef26086fe"
   },
   "outputs": [
    {
     "data": {
      "text/html": [
       "<div>\n",
       "<style scoped>\n",
       "    .dataframe tbody tr th:only-of-type {\n",
       "        vertical-align: middle;\n",
       "    }\n",
       "\n",
       "    .dataframe tbody tr th {\n",
       "        vertical-align: top;\n",
       "    }\n",
       "\n",
       "    .dataframe thead th {\n",
       "        text-align: right;\n",
       "    }\n",
       "</style>\n",
       "<table border=\"1\" class=\"dataframe\">\n",
       "  <thead>\n",
       "    <tr style=\"text-align: right;\">\n",
       "      <th></th>\n",
       "      <th>User_ID</th>\n",
       "      <th>Product_ID</th>\n",
       "      <th>Gender</th>\n",
       "      <th>Age</th>\n",
       "      <th>Occupation</th>\n",
       "      <th>City_Category</th>\n",
       "      <th>Stay_In_Current_City_Years</th>\n",
       "      <th>Marital_Status</th>\n",
       "      <th>Product_Category_1</th>\n",
       "      <th>Product_Category_2</th>\n",
       "      <th>Product_Category_3</th>\n",
       "      <th>Purchase</th>\n",
       "    </tr>\n",
       "  </thead>\n",
       "  <tbody>\n",
       "    <tr>\n",
       "      <th>0</th>\n",
       "      <td>1000001</td>\n",
       "      <td>P00069042</td>\n",
       "      <td>F</td>\n",
       "      <td>0-17</td>\n",
       "      <td>10</td>\n",
       "      <td>A</td>\n",
       "      <td>2</td>\n",
       "      <td>0</td>\n",
       "      <td>3</td>\n",
       "      <td>NaN</td>\n",
       "      <td>NaN</td>\n",
       "      <td>8370</td>\n",
       "    </tr>\n",
       "    <tr>\n",
       "      <th>1</th>\n",
       "      <td>1000001</td>\n",
       "      <td>P00248942</td>\n",
       "      <td>F</td>\n",
       "      <td>0-17</td>\n",
       "      <td>10</td>\n",
       "      <td>A</td>\n",
       "      <td>2</td>\n",
       "      <td>0</td>\n",
       "      <td>1</td>\n",
       "      <td>6.0</td>\n",
       "      <td>14.0</td>\n",
       "      <td>15200</td>\n",
       "    </tr>\n",
       "    <tr>\n",
       "      <th>2</th>\n",
       "      <td>1000001</td>\n",
       "      <td>P00087842</td>\n",
       "      <td>F</td>\n",
       "      <td>0-17</td>\n",
       "      <td>10</td>\n",
       "      <td>A</td>\n",
       "      <td>2</td>\n",
       "      <td>0</td>\n",
       "      <td>12</td>\n",
       "      <td>NaN</td>\n",
       "      <td>NaN</td>\n",
       "      <td>1422</td>\n",
       "    </tr>\n",
       "    <tr>\n",
       "      <th>3</th>\n",
       "      <td>1000001</td>\n",
       "      <td>P00085442</td>\n",
       "      <td>F</td>\n",
       "      <td>0-17</td>\n",
       "      <td>10</td>\n",
       "      <td>A</td>\n",
       "      <td>2</td>\n",
       "      <td>0</td>\n",
       "      <td>12</td>\n",
       "      <td>14.0</td>\n",
       "      <td>NaN</td>\n",
       "      <td>1057</td>\n",
       "    </tr>\n",
       "    <tr>\n",
       "      <th>4</th>\n",
       "      <td>1000002</td>\n",
       "      <td>P00285442</td>\n",
       "      <td>M</td>\n",
       "      <td>55+</td>\n",
       "      <td>16</td>\n",
       "      <td>C</td>\n",
       "      <td>4+</td>\n",
       "      <td>0</td>\n",
       "      <td>8</td>\n",
       "      <td>NaN</td>\n",
       "      <td>NaN</td>\n",
       "      <td>7969</td>\n",
       "    </tr>\n",
       "    <tr>\n",
       "      <th>...</th>\n",
       "      <td>...</td>\n",
       "      <td>...</td>\n",
       "      <td>...</td>\n",
       "      <td>...</td>\n",
       "      <td>...</td>\n",
       "      <td>...</td>\n",
       "      <td>...</td>\n",
       "      <td>...</td>\n",
       "      <td>...</td>\n",
       "      <td>...</td>\n",
       "      <td>...</td>\n",
       "      <td>...</td>\n",
       "    </tr>\n",
       "    <tr>\n",
       "      <th>550063</th>\n",
       "      <td>1006033</td>\n",
       "      <td>P00372445</td>\n",
       "      <td>M</td>\n",
       "      <td>51-55</td>\n",
       "      <td>13</td>\n",
       "      <td>B</td>\n",
       "      <td>1</td>\n",
       "      <td>1</td>\n",
       "      <td>20</td>\n",
       "      <td>NaN</td>\n",
       "      <td>NaN</td>\n",
       "      <td>368</td>\n",
       "    </tr>\n",
       "    <tr>\n",
       "      <th>550064</th>\n",
       "      <td>1006035</td>\n",
       "      <td>P00375436</td>\n",
       "      <td>F</td>\n",
       "      <td>26-35</td>\n",
       "      <td>1</td>\n",
       "      <td>C</td>\n",
       "      <td>3</td>\n",
       "      <td>0</td>\n",
       "      <td>20</td>\n",
       "      <td>NaN</td>\n",
       "      <td>NaN</td>\n",
       "      <td>371</td>\n",
       "    </tr>\n",
       "    <tr>\n",
       "      <th>550065</th>\n",
       "      <td>1006036</td>\n",
       "      <td>P00375436</td>\n",
       "      <td>F</td>\n",
       "      <td>26-35</td>\n",
       "      <td>15</td>\n",
       "      <td>B</td>\n",
       "      <td>4+</td>\n",
       "      <td>1</td>\n",
       "      <td>20</td>\n",
       "      <td>NaN</td>\n",
       "      <td>NaN</td>\n",
       "      <td>137</td>\n",
       "    </tr>\n",
       "    <tr>\n",
       "      <th>550066</th>\n",
       "      <td>1006038</td>\n",
       "      <td>P00375436</td>\n",
       "      <td>F</td>\n",
       "      <td>55+</td>\n",
       "      <td>1</td>\n",
       "      <td>C</td>\n",
       "      <td>2</td>\n",
       "      <td>0</td>\n",
       "      <td>20</td>\n",
       "      <td>NaN</td>\n",
       "      <td>NaN</td>\n",
       "      <td>365</td>\n",
       "    </tr>\n",
       "    <tr>\n",
       "      <th>550067</th>\n",
       "      <td>1006039</td>\n",
       "      <td>P00371644</td>\n",
       "      <td>F</td>\n",
       "      <td>46-50</td>\n",
       "      <td>0</td>\n",
       "      <td>B</td>\n",
       "      <td>4+</td>\n",
       "      <td>1</td>\n",
       "      <td>20</td>\n",
       "      <td>NaN</td>\n",
       "      <td>NaN</td>\n",
       "      <td>490</td>\n",
       "    </tr>\n",
       "  </tbody>\n",
       "</table>\n",
       "<p>550068 rows × 12 columns</p>\n",
       "</div>"
      ],
      "text/plain": [
       "        User_ID Product_ID Gender    Age  Occupation City_Category  \\\n",
       "0       1000001  P00069042      F   0-17          10             A   \n",
       "1       1000001  P00248942      F   0-17          10             A   \n",
       "2       1000001  P00087842      F   0-17          10             A   \n",
       "3       1000001  P00085442      F   0-17          10             A   \n",
       "4       1000002  P00285442      M    55+          16             C   \n",
       "...         ...        ...    ...    ...         ...           ...   \n",
       "550063  1006033  P00372445      M  51-55          13             B   \n",
       "550064  1006035  P00375436      F  26-35           1             C   \n",
       "550065  1006036  P00375436      F  26-35          15             B   \n",
       "550066  1006038  P00375436      F    55+           1             C   \n",
       "550067  1006039  P00371644      F  46-50           0             B   \n",
       "\n",
       "       Stay_In_Current_City_Years  Marital_Status  Product_Category_1  \\\n",
       "0                               2               0                   3   \n",
       "1                               2               0                   1   \n",
       "2                               2               0                  12   \n",
       "3                               2               0                  12   \n",
       "4                              4+               0                   8   \n",
       "...                           ...             ...                 ...   \n",
       "550063                          1               1                  20   \n",
       "550064                          3               0                  20   \n",
       "550065                         4+               1                  20   \n",
       "550066                          2               0                  20   \n",
       "550067                         4+               1                  20   \n",
       "\n",
       "        Product_Category_2  Product_Category_3  Purchase  \n",
       "0                      NaN                 NaN      8370  \n",
       "1                      6.0                14.0     15200  \n",
       "2                      NaN                 NaN      1422  \n",
       "3                     14.0                 NaN      1057  \n",
       "4                      NaN                 NaN      7969  \n",
       "...                    ...                 ...       ...  \n",
       "550063                 NaN                 NaN       368  \n",
       "550064                 NaN                 NaN       371  \n",
       "550065                 NaN                 NaN       137  \n",
       "550066                 NaN                 NaN       365  \n",
       "550067                 NaN                 NaN       490  \n",
       "\n",
       "[550068 rows x 12 columns]"
      ]
     },
     "execution_count": 118,
     "metadata": {},
     "output_type": "execute_result"
    }
   ],
   "source": [
    "## データセットの読み込み\n",
    "train = pd.read_csv('train.csv')\n",
    "train"
   ]
  },
  {
   "cell_type": "code",
   "execution_count": 119,
   "metadata": {
    "colab": {
     "base_uri": "https://localhost:8080/"
    },
    "executionInfo": {
     "elapsed": 9,
     "status": "ok",
     "timestamp": 1634575189309,
     "user": {
      "displayName": "真保勇佑",
      "photoUrl": "https://lh3.googleusercontent.com/a/default-user=s64",
      "userId": "05954062037845181310"
     },
     "user_tz": -540
    },
    "id": "uJPPvX6nTnWy",
    "outputId": "f61bafa5-da5e-441a-8b38-fe9c0326c240"
   },
   "outputs": [
    {
     "data": {
      "text/plain": [
       "Index(['User_ID', 'Product_ID', 'Gender', 'Age', 'Occupation', 'City_Category',\n",
       "       'Stay_In_Current_City_Years', 'Marital_Status', 'Product_Category_1',\n",
       "       'Product_Category_2', 'Product_Category_3', 'Purchase'],\n",
       "      dtype='object')"
      ]
     },
     "execution_count": 119,
     "metadata": {},
     "output_type": "execute_result"
    }
   ],
   "source": [
    "#カラムの種類\n",
    "train.columns"
   ]
  },
  {
   "cell_type": "code",
   "execution_count": 120,
   "metadata": {
    "colab": {
     "base_uri": "https://localhost:8080/"
    },
    "executionInfo": {
     "elapsed": 7,
     "status": "ok",
     "timestamp": 1634575189310,
     "user": {
      "displayName": "真保勇佑",
      "photoUrl": "https://lh3.googleusercontent.com/a/default-user=s64",
      "userId": "05954062037845181310"
     },
     "user_tz": -540
    },
    "id": "0bFtpeFGTsRq",
    "outputId": "02e9f311-2285-4e87-e969-727932b7219c"
   },
   "outputs": [
    {
     "data": {
      "text/plain": [
       "(550068, 12)"
      ]
     },
     "execution_count": 120,
     "metadata": {},
     "output_type": "execute_result"
    }
   ],
   "source": [
    "#データのサイズ\n",
    "train.shape"
   ]
  },
  {
   "cell_type": "code",
   "execution_count": 121,
   "metadata": {
    "colab": {
     "base_uri": "https://localhost:8080/",
     "height": 317
    },
    "executionInfo": {
     "elapsed": 5,
     "status": "ok",
     "timestamp": 1634575189310,
     "user": {
      "displayName": "真保勇佑",
      "photoUrl": "https://lh3.googleusercontent.com/a/default-user=s64",
      "userId": "05954062037845181310"
     },
     "user_tz": -540
    },
    "id": "6IxOQvDVTxRa",
    "outputId": "6990a352-9ce0-41d8-c574-2421e250c32e"
   },
   "outputs": [
    {
     "data": {
      "text/html": [
       "<div>\n",
       "<style scoped>\n",
       "    .dataframe tbody tr th:only-of-type {\n",
       "        vertical-align: middle;\n",
       "    }\n",
       "\n",
       "    .dataframe tbody tr th {\n",
       "        vertical-align: top;\n",
       "    }\n",
       "\n",
       "    .dataframe thead th {\n",
       "        text-align: right;\n",
       "    }\n",
       "</style>\n",
       "<table border=\"1\" class=\"dataframe\">\n",
       "  <thead>\n",
       "    <tr style=\"text-align: right;\">\n",
       "      <th></th>\n",
       "      <th>User_ID</th>\n",
       "      <th>Occupation</th>\n",
       "      <th>Marital_Status</th>\n",
       "      <th>Product_Category_1</th>\n",
       "      <th>Product_Category_2</th>\n",
       "      <th>Product_Category_3</th>\n",
       "      <th>Purchase</th>\n",
       "    </tr>\n",
       "  </thead>\n",
       "  <tbody>\n",
       "    <tr>\n",
       "      <th>count</th>\n",
       "      <td>5.500680e+05</td>\n",
       "      <td>550068.000000</td>\n",
       "      <td>550068.000000</td>\n",
       "      <td>550068.000000</td>\n",
       "      <td>376430.000000</td>\n",
       "      <td>166821.000000</td>\n",
       "      <td>550068.000000</td>\n",
       "    </tr>\n",
       "    <tr>\n",
       "      <th>mean</th>\n",
       "      <td>1.003029e+06</td>\n",
       "      <td>8.076707</td>\n",
       "      <td>0.409653</td>\n",
       "      <td>5.404270</td>\n",
       "      <td>9.842329</td>\n",
       "      <td>12.668243</td>\n",
       "      <td>9263.968713</td>\n",
       "    </tr>\n",
       "    <tr>\n",
       "      <th>std</th>\n",
       "      <td>1.727592e+03</td>\n",
       "      <td>6.522660</td>\n",
       "      <td>0.491770</td>\n",
       "      <td>3.936211</td>\n",
       "      <td>5.086590</td>\n",
       "      <td>4.125338</td>\n",
       "      <td>5023.065394</td>\n",
       "    </tr>\n",
       "    <tr>\n",
       "      <th>min</th>\n",
       "      <td>1.000001e+06</td>\n",
       "      <td>0.000000</td>\n",
       "      <td>0.000000</td>\n",
       "      <td>1.000000</td>\n",
       "      <td>2.000000</td>\n",
       "      <td>3.000000</td>\n",
       "      <td>12.000000</td>\n",
       "    </tr>\n",
       "    <tr>\n",
       "      <th>25%</th>\n",
       "      <td>1.001516e+06</td>\n",
       "      <td>2.000000</td>\n",
       "      <td>0.000000</td>\n",
       "      <td>1.000000</td>\n",
       "      <td>5.000000</td>\n",
       "      <td>9.000000</td>\n",
       "      <td>5823.000000</td>\n",
       "    </tr>\n",
       "    <tr>\n",
       "      <th>50%</th>\n",
       "      <td>1.003077e+06</td>\n",
       "      <td>7.000000</td>\n",
       "      <td>0.000000</td>\n",
       "      <td>5.000000</td>\n",
       "      <td>9.000000</td>\n",
       "      <td>14.000000</td>\n",
       "      <td>8047.000000</td>\n",
       "    </tr>\n",
       "    <tr>\n",
       "      <th>75%</th>\n",
       "      <td>1.004478e+06</td>\n",
       "      <td>14.000000</td>\n",
       "      <td>1.000000</td>\n",
       "      <td>8.000000</td>\n",
       "      <td>15.000000</td>\n",
       "      <td>16.000000</td>\n",
       "      <td>12054.000000</td>\n",
       "    </tr>\n",
       "    <tr>\n",
       "      <th>max</th>\n",
       "      <td>1.006040e+06</td>\n",
       "      <td>20.000000</td>\n",
       "      <td>1.000000</td>\n",
       "      <td>20.000000</td>\n",
       "      <td>18.000000</td>\n",
       "      <td>18.000000</td>\n",
       "      <td>23961.000000</td>\n",
       "    </tr>\n",
       "  </tbody>\n",
       "</table>\n",
       "</div>"
      ],
      "text/plain": [
       "            User_ID     Occupation  Marital_Status  Product_Category_1  \\\n",
       "count  5.500680e+05  550068.000000   550068.000000       550068.000000   \n",
       "mean   1.003029e+06       8.076707        0.409653            5.404270   \n",
       "std    1.727592e+03       6.522660        0.491770            3.936211   \n",
       "min    1.000001e+06       0.000000        0.000000            1.000000   \n",
       "25%    1.001516e+06       2.000000        0.000000            1.000000   \n",
       "50%    1.003077e+06       7.000000        0.000000            5.000000   \n",
       "75%    1.004478e+06      14.000000        1.000000            8.000000   \n",
       "max    1.006040e+06      20.000000        1.000000           20.000000   \n",
       "\n",
       "       Product_Category_2  Product_Category_3       Purchase  \n",
       "count       376430.000000       166821.000000  550068.000000  \n",
       "mean             9.842329           12.668243    9263.968713  \n",
       "std              5.086590            4.125338    5023.065394  \n",
       "min              2.000000            3.000000      12.000000  \n",
       "25%              5.000000            9.000000    5823.000000  \n",
       "50%              9.000000           14.000000    8047.000000  \n",
       "75%             15.000000           16.000000   12054.000000  \n",
       "max             18.000000           18.000000   23961.000000  "
      ]
     },
     "execution_count": 121,
     "metadata": {},
     "output_type": "execute_result"
    }
   ],
   "source": [
    "#データの統計情報\n",
    "train.describe()"
   ]
  },
  {
   "cell_type": "code",
   "execution_count": 122,
   "metadata": {
    "colab": {
     "base_uri": "https://localhost:8080/"
    },
    "executionInfo": {
     "elapsed": 416,
     "status": "ok",
     "timestamp": 1634575189722,
     "user": {
      "displayName": "真保勇佑",
      "photoUrl": "https://lh3.googleusercontent.com/a/default-user=s64",
      "userId": "05954062037845181310"
     },
     "user_tz": -540
    },
    "id": "4U63lsfBT1Ha",
    "outputId": "5752fd38-b9fe-429e-e2a2-3740fde0f399"
   },
   "outputs": [
    {
     "name": "stdout",
     "output_type": "stream",
     "text": [
      "<class 'pandas.core.frame.DataFrame'>\n",
      "RangeIndex: 550068 entries, 0 to 550067\n",
      "Data columns (total 12 columns):\n",
      " #   Column                      Non-Null Count   Dtype  \n",
      "---  ------                      --------------   -----  \n",
      " 0   User_ID                     550068 non-null  int64  \n",
      " 1   Product_ID                  550068 non-null  object \n",
      " 2   Gender                      550068 non-null  object \n",
      " 3   Age                         550068 non-null  object \n",
      " 4   Occupation                  550068 non-null  int64  \n",
      " 5   City_Category               550068 non-null  object \n",
      " 6   Stay_In_Current_City_Years  550068 non-null  object \n",
      " 7   Marital_Status              550068 non-null  int64  \n",
      " 8   Product_Category_1          550068 non-null  int64  \n",
      " 9   Product_Category_2          376430 non-null  float64\n",
      " 10  Product_Category_3          166821 non-null  float64\n",
      " 11  Purchase                    550068 non-null  int64  \n",
      "dtypes: float64(2), int64(5), object(5)\n",
      "memory usage: 50.4+ MB\n"
     ]
    }
   ],
   "source": [
    "#　データ型、欠損値の確認\n",
    "train.info()"
   ]
  },
  {
   "cell_type": "code",
   "execution_count": 123,
   "metadata": {
    "colab": {
     "base_uri": "https://localhost:8080/"
    },
    "executionInfo": {
     "elapsed": 7,
     "status": "ok",
     "timestamp": 1634575189722,
     "user": {
      "displayName": "真保勇佑",
      "photoUrl": "https://lh3.googleusercontent.com/a/default-user=s64",
      "userId": "05954062037845181310"
     },
     "user_tz": -540
    },
    "id": "gC-t0eAIT7Xq",
    "outputId": "1c13f8ab-e1b1-474f-c908-373e19bf69de"
   },
   "outputs": [
    {
     "data": {
      "text/plain": [
       "User_ID                            0\n",
       "Product_ID                         0\n",
       "Gender                             0\n",
       "Age                                0\n",
       "Occupation                         0\n",
       "City_Category                      0\n",
       "Stay_In_Current_City_Years         0\n",
       "Marital_Status                     0\n",
       "Product_Category_1                 0\n",
       "Product_Category_2            173638\n",
       "Product_Category_3            383247\n",
       "Purchase                           0\n",
       "dtype: int64"
      ]
     },
     "execution_count": 123,
     "metadata": {},
     "output_type": "execute_result"
    }
   ],
   "source": [
    "train.isnull().sum()"
   ]
  },
  {
   "cell_type": "markdown",
   "metadata": {
    "id": "IAy69VVRYH3I"
   },
   "source": [
    "欠損が多いカラムProduct_Category_3は今回は使用せずに分析していく。"
   ]
  },
  {
   "cell_type": "markdown",
   "metadata": {
    "id": "f4_pnqVdUQ93"
   },
   "source": [
    "## データの可視化とEDA"
   ]
  },
  {
   "cell_type": "code",
   "execution_count": 124,
   "metadata": {
    "colab": {
     "base_uri": "https://localhost:8080/",
     "height": 405
    },
    "executionInfo": {
     "elapsed": 455,
     "status": "ok",
     "timestamp": 1634575190173,
     "user": {
      "displayName": "真保勇佑",
      "photoUrl": "https://lh3.googleusercontent.com/a/default-user=s64",
      "userId": "05954062037845181310"
     },
     "user_tz": -540
    },
    "id": "25u7i8P9UHjr",
    "outputId": "e8a58ad6-d50f-4774-fe0c-80c677a5a35e"
   },
   "outputs": [
    {
     "data": {
      "text/plain": [
       "<AxesSubplot:xlabel='Gender', ylabel='count'>"
      ]
     },
     "execution_count": 124,
     "metadata": {},
     "output_type": "execute_result"
    },
    {
     "data": {
      "image/png": "[encoded data removed]",
      "text/plain": [
       "<Figure size 720x432 with 1 Axes>"
      ]
     },
     "metadata": {
      "needs_background": "light"
     },
     "output_type": "display_data"
    }
   ],
   "source": [
    "#ジェンダー比率の確認\n",
    "plt.figure(figsize=(10,6))\n",
    "sns.countplot(data=train,x='Gender',palette='hls')"
   ]
  },
  {
   "cell_type": "code",
   "execution_count": 125,
   "metadata": {},
   "outputs": [
    {
     "name": "stderr",
     "output_type": "stream",
     "text": [
      "C:\\Users\\ritch\\Anaconda3\\lib\\site-packages\\seaborn\\axisgrid.py:316: UserWarning: The `size` parameter has been renamed to `height`; please update your code.\n",
      "  warnings.warn(msg, UserWarning)\n",
      "C:\\Users\\ritch\\Anaconda3\\lib\\site-packages\\seaborn\\distributions.py:2557: FutureWarning: `distplot` is a deprecated function and will be removed in a future version. Please adapt your code to use either `displot` (a figure-level function with similar flexibility) or `histplot` (an axes-level function for histograms).\n",
      "  warnings.warn(msg, FutureWarning)\n",
      "C:\\Users\\ritch\\Anaconda3\\lib\\site-packages\\seaborn\\distributions.py:2557: FutureWarning: `distplot` is a deprecated function and will be removed in a future version. Please adapt your code to use either `displot` (a figure-level function with similar flexibility) or `histplot` (an axes-level function for histograms).\n",
      "  warnings.warn(msg, FutureWarning)\n"
     ]
    },
    {
     "data": {
      "image/png": "[encoded data removed]",
      "text/plain": [
       "<Figure size 1080x360 with 2 Axes>"
      ]
     },
     "metadata": {
      "needs_background": "light"
     },
     "output_type": "display_data"
    }
   ],
   "source": [
    "# 性別による金額の違いは出ているか確認\n",
    "grid = sns.FacetGrid(train, col='Gender', hue='Gender', col_wrap=3, size=5)\n",
    "grid.map(sns.distplot, 'Purchase', bins=7, kde=True)\n",
    "plt.show()"
   ]
  },
  {
   "cell_type": "code",
   "execution_count": 126,
   "metadata": {
    "colab": {
     "base_uri": "https://localhost:8080/",
     "height": 296
    },
    "executionInfo": {
     "elapsed": 7302,
     "status": "ok",
     "timestamp": 1634575197838,
     "user": {
      "displayName": "真保勇佑",
      "photoUrl": "https://lh3.googleusercontent.com/a/default-user=s64",
      "userId": "05954062037845181310"
     },
     "user_tz": -540
    },
    "id": "xGxYeLB8VydB",
    "outputId": "66b51df6-966e-4d86-e4ea-e63d8ae12edd"
   },
   "outputs": [
    {
     "data": {
      "text/plain": [
       "<AxesSubplot:xlabel='Occupation', ylabel='Purchase'>"
      ]
     },
     "execution_count": 126,
     "metadata": {},
     "output_type": "execute_result"
    },
    {
     "data": {
      "image/png": "[encoded data removed]",
      "text/plain": [
       "<Figure size 432x288 with 1 Axes>"
      ]
     },
     "metadata": {
      "needs_background": "light"
     },
     "output_type": "display_data"
    }
   ],
   "source": [
    "#占有時間と買い物金額の関係\n",
    "sns.barplot(data=train,x='Occupation',y='Purchase')"
   ]
  },
  {
   "cell_type": "code",
   "execution_count": 127,
   "metadata": {
    "colab": {
     "base_uri": "https://localhost:8080/",
     "height": 296
    },
    "executionInfo": {
     "elapsed": 8364,
     "status": "ok",
     "timestamp": 1634575206193,
     "user": {
      "displayName": "真保勇佑",
      "photoUrl": "https://lh3.googleusercontent.com/a/default-user=s64",
      "userId": "05954062037845181310"
     },
     "user_tz": -540
    },
    "id": "MB9VTFDWWWAz",
    "outputId": "8b3f95be-6522-42dc-e71e-e19636ff1672"
   },
   "outputs": [
    {
     "data": {
      "text/plain": [
       "<AxesSubplot:xlabel='Occupation', ylabel='Purchase'>"
      ]
     },
     "execution_count": 127,
     "metadata": {},
     "output_type": "execute_result"
    },
    {
     "data": {
      "image/png": "[encoded data removed]",
      "text/plain": [
       "<Figure size 432x288 with 1 Axes>"
      ]
     },
     "metadata": {
      "needs_background": "light"
     },
     "output_type": "display_data"
    }
   ],
   "source": [
    "#上記に性別も加えてプロット\n",
    "sns.barplot(data=train,x='Occupation',y='Purchase',hue='Gender')"
   ]
  },
  {
   "cell_type": "markdown",
   "metadata": {
    "id": "qX7cdjzUWq4_"
   },
   "source": [
    "性別には偏りがある。しかし、買い物金額に性別や占有時間の差はない。"
   ]
  },
  {
   "cell_type": "markdown",
   "metadata": {
    "id": "sHf8jlv8XAjY"
   },
   "source": [
    "### 外れ値の検出"
   ]
  },
  {
   "cell_type": "code",
   "execution_count": 128,
   "metadata": {
    "colab": {
     "base_uri": "https://localhost:8080/",
     "height": 405
    },
    "executionInfo": {
     "elapsed": 2571,
     "status": "ok",
     "timestamp": 1634575208762,
     "user": {
      "displayName": "真保勇佑",
      "photoUrl": "https://lh3.googleusercontent.com/a/default-user=s64",
      "userId": "05954062037845181310"
     },
     "user_tz": -540
    },
    "id": "-mxPvLA8Wn9E",
    "outputId": "2bfd5a4f-518f-4c2d-9aa4-bc9418816dff"
   },
   "outputs": [
    {
     "data": {
      "text/plain": [
       "<AxesSubplot:xlabel='Gender', ylabel='Purchase'>"
      ]
     },
     "execution_count": 128,
     "metadata": {},
     "output_type": "execute_result"
    },
    {
     "data": {
      "image/png": "[encoded data removed]",
      "text/plain": [
       "<Figure size 720x432 with 1 Axes>"
      ]
     },
     "metadata": {
      "needs_background": "light"
     },
     "output_type": "display_data"
    }
   ],
   "source": [
    "# 性別と金額\n",
    "plt.figure(figsize=(10,6))\n",
    "sns.violinplot(data=train,x='Gender',y='Purchase')"
   ]
  },
  {
   "cell_type": "code",
   "execution_count": 129,
   "metadata": {
    "colab": {
     "base_uri": "https://localhost:8080/",
     "height": 407
    },
    "executionInfo": {
     "elapsed": 494,
     "status": "ok",
     "timestamp": 1634575209254,
     "user": {
      "displayName": "真保勇佑",
      "photoUrl": "https://lh3.googleusercontent.com/a/default-user=s64",
      "userId": "05954062037845181310"
     },
     "user_tz": -540
    },
    "id": "MLjMbjGoXPBJ",
    "outputId": "ac9cb587-2f23-439c-de88-6fc2600fee07"
   },
   "outputs": [
    {
     "data": {
      "text/plain": [
       "<AxesSubplot:xlabel='Gender', ylabel='Purchase'>"
      ]
     },
     "execution_count": 129,
     "metadata": {},
     "output_type": "execute_result"
    },
    {
     "data": {
      "image/png": "[encoded data removed]",
      "text/plain": [
       "<Figure size 720x432 with 1 Axes>"
      ]
     },
     "metadata": {
      "needs_background": "light"
     },
     "output_type": "display_data"
    }
   ],
   "source": [
    "plt.figure(figsize=(10,6))\n",
    "sns.boxplot(data=train,x='Gender',y='Purchase')"
   ]
  },
  {
   "cell_type": "code",
   "execution_count": 130,
   "metadata": {
    "colab": {
     "base_uri": "https://localhost:8080/",
     "height": 407
    },
    "executionInfo": {
     "elapsed": 300,
     "status": "ok",
     "timestamp": 1634575209551,
     "user": {
      "displayName": "真保勇佑",
      "photoUrl": "https://lh3.googleusercontent.com/a/default-user=s64",
      "userId": "05954062037845181310"
     },
     "user_tz": -540
    },
    "id": "97iLWkFsXV40",
    "outputId": "38f8e191-5dde-4b6d-8d18-1aa5f279eb1c"
   },
   "outputs": [
    {
     "data": {
      "text/plain": [
       "<AxesSubplot:xlabel='Age', ylabel='Purchase'>"
      ]
     },
     "execution_count": 130,
     "metadata": {},
     "output_type": "execute_result"
    },
    {
     "data": {
      "image/png": "[encoded data removed]",
      "text/plain": [
       "<Figure size 720x432 with 1 Axes>"
      ]
     },
     "metadata": {
      "needs_background": "light"
     },
     "output_type": "display_data"
    }
   ],
   "source": [
    "#　年齢と金額\n",
    "plt.figure(figsize=(10,6))\n",
    "sns.boxplot(data=train,x='Age',y='Purchase')"
   ]
  },
  {
   "cell_type": "markdown",
   "metadata": {
    "id": "Lri4M4KfX4pI"
   },
   "source": [
    "上の図では性別と年齢で大きな違いは出ていない。<br>\n",
    "また、目立った外れ値も検出できない。"
   ]
  },
  {
   "cell_type": "code",
   "execution_count": 131,
   "metadata": {
    "colab": {
     "base_uri": "https://localhost:8080/",
     "height": 408
    },
    "executionInfo": {
     "elapsed": 712,
     "status": "ok",
     "timestamp": 1634575210261,
     "user": {
      "displayName": "真保勇佑",
      "photoUrl": "https://lh3.googleusercontent.com/a/default-user=s64",
      "userId": "05954062037845181310"
     },
     "user_tz": -540
    },
    "id": "89p4hj1CXrrL",
    "outputId": "28fbdf3b-4783-471b-ff56-6ce099695bf1"
   },
   "outputs": [
    {
     "data": {
      "text/plain": [
       "<AxesSubplot:xlabel='Product_Category_1', ylabel='Purchase'>"
      ]
     },
     "execution_count": 131,
     "metadata": {},
     "output_type": "execute_result"
    },
    {
     "data": {
      "image/png": "[encoded data removed]",
      "text/plain": [
       "<Figure size 720x432 with 1 Axes>"
      ]
     },
     "metadata": {
      "needs_background": "light"
     },
     "output_type": "display_data"
    }
   ],
   "source": [
    "#　商品カテゴリと金額\n",
    "plt.figure(figsize=(10,6))\n",
    "sns.boxplot(data=train,x='Product_Category_1',y='Purchase')"
   ]
  },
  {
   "cell_type": "markdown",
   "metadata": {
    "id": "EmaB6YPSZYCo"
   },
   "source": [
    "上の図のカラムは特徴が出ている。"
   ]
  },
  {
   "cell_type": "code",
   "execution_count": 132,
   "metadata": {
    "colab": {
     "base_uri": "https://localhost:8080/",
     "height": 351
    },
    "executionInfo": {
     "elapsed": 2598,
     "status": "ok",
     "timestamp": 1634575212855,
     "user": {
      "displayName": "真保勇佑",
      "photoUrl": "https://lh3.googleusercontent.com/a/default-user=s64",
      "userId": "05954062037845181310"
     },
     "user_tz": -540
    },
    "id": "1nN0dbKMX3JM",
    "outputId": "ba623368-f9fc-4766-b08b-425f739b0275"
   },
   "outputs": [
    {
     "name": "stderr",
     "output_type": "stream",
     "text": [
      "C:\\Users\\ritch\\Anaconda3\\lib\\site-packages\\seaborn\\distributions.py:2557: FutureWarning: `distplot` is a deprecated function and will be removed in a future version. Please adapt your code to use either `displot` (a figure-level function with similar flexibility) or `histplot` (an axes-level function for histograms).\n",
      "  warnings.warn(msg, FutureWarning)\n"
     ]
    },
    {
     "data": {
      "text/plain": [
       "<AxesSubplot:xlabel='Product_Category_2', ylabel='Density'>"
      ]
     },
     "execution_count": 132,
     "metadata": {},
     "output_type": "execute_result"
    },
    {
     "data": {
      "image/png": "[encoded data removed]",
      "text/plain": [
       "<Figure size 432x288 with 1 Axes>"
      ]
     },
     "metadata": {
      "needs_background": "light"
     },
     "output_type": "display_data"
    }
   ],
   "source": [
    "# Product_Category2の分布をみて、欠損値補完の参考に\n",
    "sns.distplot(train['Product_Category_2'],kde=True)"
   ]
  },
  {
   "cell_type": "markdown",
   "metadata": {
    "id": "Q0qxu4E_aDxo"
   },
   "source": [
    "## データの前処理"
   ]
  },
  {
   "cell_type": "markdown",
   "metadata": {},
   "source": [
    "前処理では、まずは欠損が多すぎるものは使えないので削除<br>\n",
    "そして、図で示したようにProduct_Category２は統計に偏りがあるので中央値で補完"
   ]
  },
  {
   "cell_type": "markdown",
   "metadata": {},
   "source": [
    "### 欠損値への対応"
   ]
  },
  {
   "cell_type": "code",
   "execution_count": 133,
   "metadata": {
    "executionInfo": {
     "elapsed": 5,
     "status": "ok",
     "timestamp": 1634575212856,
     "user": {
      "displayName": "真保勇佑",
      "photoUrl": "https://lh3.googleusercontent.com/a/default-user=s64",
      "userId": "05954062037845181310"
     },
     "user_tz": -540
    },
    "id": "yzn9ZEGsY1TF"
   },
   "outputs": [],
   "source": [
    "# 欠損値の多いカラムの削除\n",
    "train = train.drop(['Product_Category_3'],axis=1)"
   ]
  },
  {
   "cell_type": "code",
   "execution_count": 134,
   "metadata": {
    "executionInfo": {
     "elapsed": 4,
     "status": "ok",
     "timestamp": 1634575212856,
     "user": {
      "displayName": "真保勇佑",
      "photoUrl": "https://lh3.googleusercontent.com/a/default-user=s64",
      "userId": "05954062037845181310"
     },
     "user_tz": -540
    },
    "id": "bsT5IO6MaWtR"
   },
   "outputs": [],
   "source": [
    "# 欠損値補完（ばらつきがあるので、平均ではなく中央値で）\n",
    "train['Product_Category_2'] = train['Product_Category_2'].fillna(train['Product_Category_2'].median())"
   ]
  },
  {
   "cell_type": "markdown",
   "metadata": {},
   "source": [
    "### ID群のデータ活用"
   ]
  },
  {
   "cell_type": "markdown",
   "metadata": {},
   "source": [
    "このデータでは、User_IDとProduct_IDというカラムがある。<br>\n",
    "IDと聞くとそれぞれのデータに割り振られたindex番号と思ってしまうが、<br>\n",
    "これは重複があり、固有のユーザーと商品を表したものであることがわかる。"
   ]
  },
  {
   "cell_type": "markdown",
   "metadata": {},
   "source": [
    "セールの金額を求めるので、ユーザーと商品の情報は特徴量として使える。<br>\n",
    "なので、これは確実に特徴量として使っていく。<br>\n",
    "※事前の分析でも影響があることがわかっている。"
   ]
  },
  {
   "cell_type": "code",
   "execution_count": 135,
   "metadata": {},
   "outputs": [
    {
     "name": "stdout",
     "output_type": "stream",
     "text": [
      "550068 5891\n",
      "550068 3631\n"
     ]
    }
   ],
   "source": [
    "# Use_IDとProduct_IDが特徴であることを確認\n",
    "print(train.shape[0],train['User_ID'].nunique())\n",
    "print(train.shape[0],train['Product_ID'].nunique())"
   ]
  },
  {
   "cell_type": "code",
   "execution_count": 136,
   "metadata": {
    "executionInfo": {
     "elapsed": 510,
     "status": "ok",
     "timestamp": 1634575213362,
     "user": {
      "displayName": "真保勇佑",
      "photoUrl": "https://lh3.googleusercontent.com/a/default-user=s64",
      "userId": "05954062037845181310"
     },
     "user_tz": -540
    },
    "id": "SuNC_1FKr60C"
   },
   "outputs": [],
   "source": [
    "# Product_IDを加工して使えるようにする\n",
    "#下６桁は固有番号なので、それ以外は削除\n",
    "train['Product_ID'] = train['Product_ID'].str.replace('P00','')\n",
    "ss = StandardScaler()\n",
    "train['Product_ID'] = ss.fit_transform(train['Product_ID'].values.reshape(-1,1))"
   ]
  },
  {
   "cell_type": "code",
   "execution_count": 137,
   "metadata": {
    "colab": {
     "base_uri": "https://localhost:8080/",
     "height": 292
    },
    "executionInfo": {
     "elapsed": 4,
     "status": "ok",
     "timestamp": 1634575213362,
     "user": {
      "displayName": "真保勇佑",
      "photoUrl": "https://lh3.googleusercontent.com/a/default-user=s64",
      "userId": "05954062037845181310"
     },
     "user_tz": -540
    },
    "id": "1X53Rmaaa2VK",
    "outputId": "a2edd4d0-bb0b-4df4-cd0d-553e3ca341cb",
    "scrolled": true
   },
   "outputs": [
    {
     "data": {
      "text/html": [
       "<div>\n",
       "<style scoped>\n",
       "    .dataframe tbody tr th:only-of-type {\n",
       "        vertical-align: middle;\n",
       "    }\n",
       "\n",
       "    .dataframe tbody tr th {\n",
       "        vertical-align: top;\n",
       "    }\n",
       "\n",
       "    .dataframe thead th {\n",
       "        text-align: right;\n",
       "    }\n",
       "</style>\n",
       "<table border=\"1\" class=\"dataframe\">\n",
       "  <thead>\n",
       "    <tr style=\"text-align: right;\">\n",
       "      <th></th>\n",
       "      <th>User_ID</th>\n",
       "      <th>Product_ID</th>\n",
       "      <th>Gender</th>\n",
       "      <th>Age</th>\n",
       "      <th>Occupation</th>\n",
       "      <th>City_Category</th>\n",
       "      <th>Stay_In_Current_City_Years</th>\n",
       "      <th>Marital_Status</th>\n",
       "      <th>Product_Category_1</th>\n",
       "      <th>Product_Category_2</th>\n",
       "      <th>Purchase</th>\n",
       "    </tr>\n",
       "  </thead>\n",
       "  <tbody>\n",
       "    <tr>\n",
       "      <th>0</th>\n",
       "      <td>1000001</td>\n",
       "      <td>-1.028774</td>\n",
       "      <td>F</td>\n",
       "      <td>0-17</td>\n",
       "      <td>10</td>\n",
       "      <td>A</td>\n",
       "      <td>2</td>\n",
       "      <td>0</td>\n",
       "      <td>3</td>\n",
       "      <td>9.0</td>\n",
       "      <td>8370</td>\n",
       "    </tr>\n",
       "    <tr>\n",
       "      <th>1</th>\n",
       "      <td>1000001</td>\n",
       "      <td>0.722139</td>\n",
       "      <td>F</td>\n",
       "      <td>0-17</td>\n",
       "      <td>10</td>\n",
       "      <td>A</td>\n",
       "      <td>2</td>\n",
       "      <td>0</td>\n",
       "      <td>1</td>\n",
       "      <td>6.0</td>\n",
       "      <td>15200</td>\n",
       "    </tr>\n",
       "    <tr>\n",
       "      <th>2</th>\n",
       "      <td>1000001</td>\n",
       "      <td>-0.845799</td>\n",
       "      <td>F</td>\n",
       "      <td>0-17</td>\n",
       "      <td>10</td>\n",
       "      <td>A</td>\n",
       "      <td>2</td>\n",
       "      <td>0</td>\n",
       "      <td>12</td>\n",
       "      <td>9.0</td>\n",
       "      <td>1422</td>\n",
       "    </tr>\n",
       "    <tr>\n",
       "      <th>3</th>\n",
       "      <td>1000001</td>\n",
       "      <td>-0.869157</td>\n",
       "      <td>F</td>\n",
       "      <td>0-17</td>\n",
       "      <td>10</td>\n",
       "      <td>A</td>\n",
       "      <td>2</td>\n",
       "      <td>0</td>\n",
       "      <td>12</td>\n",
       "      <td>14.0</td>\n",
       "      <td>1057</td>\n",
       "    </tr>\n",
       "    <tr>\n",
       "      <th>4</th>\n",
       "      <td>1000002</td>\n",
       "      <td>1.077382</td>\n",
       "      <td>M</td>\n",
       "      <td>55+</td>\n",
       "      <td>16</td>\n",
       "      <td>C</td>\n",
       "      <td>4+</td>\n",
       "      <td>0</td>\n",
       "      <td>8</td>\n",
       "      <td>9.0</td>\n",
       "      <td>7969</td>\n",
       "    </tr>\n",
       "  </tbody>\n",
       "</table>\n",
       "</div>"
      ],
      "text/plain": [
       "   User_ID  Product_ID Gender   Age  Occupation City_Category  \\\n",
       "0  1000001   -1.028774      F  0-17          10             A   \n",
       "1  1000001    0.722139      F  0-17          10             A   \n",
       "2  1000001   -0.845799      F  0-17          10             A   \n",
       "3  1000001   -0.869157      F  0-17          10             A   \n",
       "4  1000002    1.077382      M   55+          16             C   \n",
       "\n",
       "  Stay_In_Current_City_Years  Marital_Status  Product_Category_1  \\\n",
       "0                          2               0                   3   \n",
       "1                          2               0                   1   \n",
       "2                          2               0                  12   \n",
       "3                          2               0                  12   \n",
       "4                         4+               0                   8   \n",
       "\n",
       "   Product_Category_2  Purchase  \n",
       "0                 9.0      8370  \n",
       "1                 6.0     15200  \n",
       "2                 9.0      1422  \n",
       "3                14.0      1057  \n",
       "4                 9.0      7969  "
      ]
     },
     "execution_count": 137,
     "metadata": {},
     "output_type": "execute_result"
    }
   ],
   "source": [
    "train.head()"
   ]
  },
  {
   "cell_type": "markdown",
   "metadata": {
    "id": "FCRxeoGpf3Mh"
   },
   "source": [
    "### カテゴリーデータをラベルエンコーディング"
   ]
  },
  {
   "cell_type": "code",
   "execution_count": 138,
   "metadata": {
    "colab": {
     "base_uri": "https://localhost:8080/"
    },
    "executionInfo": {
     "elapsed": 351,
     "status": "ok",
     "timestamp": 1634575213710,
     "user": {
      "displayName": "真保勇佑",
      "photoUrl": "https://lh3.googleusercontent.com/a/default-user=s64",
      "userId": "05954062037845181310"
     },
     "user_tz": -540
    },
    "id": "cO3b5EOLa3e8",
    "outputId": "83a68305-577f-4e16-b66b-bca69cf6cbcb"
   },
   "outputs": [
    {
     "data": {
      "text/plain": [
       "User_ID                         int64\n",
       "Product_ID                    float64\n",
       "Gender                          int32\n",
       "Age                             int32\n",
       "Occupation                      int64\n",
       "City_Category                   int32\n",
       "Stay_In_Current_City_Years     object\n",
       "Marital_Status                  int64\n",
       "Product_Category_1              int64\n",
       "Product_Category_2            float64\n",
       "Purchase                        int64\n",
       "dtype: object"
      ]
     },
     "execution_count": 138,
     "metadata": {},
     "output_type": "execute_result"
    }
   ],
   "source": [
    "# カテゴリデータを取り出して求めてエンコーディング\n",
    "cat_cols=['Gender','City_Category','Age']\n",
    "le = LabelEncoder()\n",
    "for i in cat_cols:\n",
    "  train[i] = le.fit_transform(train[i])\n",
    "train.dtypes"
   ]
  },
  {
   "cell_type": "markdown",
   "metadata": {
    "id": "0zQksYa2gcJx"
   },
   "source": [
    "### データ内の数字や表記を変換"
   ]
  },
  {
   "cell_type": "code",
   "execution_count": 139,
   "metadata": {
    "executionInfo": {
     "elapsed": 2,
     "status": "ok",
     "timestamp": 1634575213710,
     "user": {
      "displayName": "真保勇佑",
      "photoUrl": "https://lh3.googleusercontent.com/a/default-user=s64",
      "userId": "05954062037845181310"
     },
     "user_tz": -540
    },
    "id": "269nEshhgUc8"
   },
   "outputs": [],
   "source": [
    "# ＋は余分なので削除,数値データに変換\n",
    "train['Stay_In_Current_City_Years'] = train['Stay_In_Current_City_Years'].replace('4+','4')\n",
    "train['Stay_In_Current_City_Years'] = train['Stay_In_Current_City_Years'].astype(int)"
   ]
  },
  {
   "cell_type": "code",
   "execution_count": 140,
   "metadata": {
    "executionInfo": {
     "elapsed": 2,
     "status": "ok",
     "timestamp": 1634575213710,
     "user": {
      "displayName": "真保勇佑",
      "photoUrl": "https://lh3.googleusercontent.com/a/default-user=s64",
      "userId": "05954062037845181310"
     },
     "user_tz": -540
    },
    "id": "sRew63vHgrQ6"
   },
   "outputs": [],
   "source": [
    "#City_categoryが整数値になっているので、カテゴリ型に変換\n",
    "train['City_Category'] = train['City_Category'].astype('category')"
   ]
  },
  {
   "cell_type": "code",
   "execution_count": 141,
   "metadata": {
    "colab": {
     "base_uri": "https://localhost:8080/",
     "height": 439
    },
    "executionInfo": {
     "elapsed": 384,
     "status": "ok",
     "timestamp": 1634575214093,
     "user": {
      "displayName": "真保勇佑",
      "photoUrl": "https://lh3.googleusercontent.com/a/default-user=s64",
      "userId": "05954062037845181310"
     },
     "user_tz": -540
    },
    "id": "81Y3VSmKhdG1",
    "outputId": "5ea6ae1d-29e1-4266-f3dd-27ff98c83f5e"
   },
   "outputs": [
    {
     "data": {
      "text/html": [
       "<div>\n",
       "<style scoped>\n",
       "    .dataframe tbody tr th:only-of-type {\n",
       "        vertical-align: middle;\n",
       "    }\n",
       "\n",
       "    .dataframe tbody tr th {\n",
       "        vertical-align: top;\n",
       "    }\n",
       "\n",
       "    .dataframe thead th {\n",
       "        text-align: right;\n",
       "    }\n",
       "</style>\n",
       "<table border=\"1\" class=\"dataframe\">\n",
       "  <thead>\n",
       "    <tr style=\"text-align: right;\">\n",
       "      <th></th>\n",
       "      <th>User_ID</th>\n",
       "      <th>Product_ID</th>\n",
       "      <th>Gender</th>\n",
       "      <th>Age</th>\n",
       "      <th>Occupation</th>\n",
       "      <th>City_Category</th>\n",
       "      <th>Stay_In_Current_City_Years</th>\n",
       "      <th>Marital_Status</th>\n",
       "      <th>Product_Category_1</th>\n",
       "      <th>Product_Category_2</th>\n",
       "      <th>Purchase</th>\n",
       "    </tr>\n",
       "  </thead>\n",
       "  <tbody>\n",
       "    <tr>\n",
       "      <th>0</th>\n",
       "      <td>1000001</td>\n",
       "      <td>-1.028774</td>\n",
       "      <td>0</td>\n",
       "      <td>0</td>\n",
       "      <td>10</td>\n",
       "      <td>0</td>\n",
       "      <td>2</td>\n",
       "      <td>0</td>\n",
       "      <td>3</td>\n",
       "      <td>9.0</td>\n",
       "      <td>8370</td>\n",
       "    </tr>\n",
       "    <tr>\n",
       "      <th>1</th>\n",
       "      <td>1000001</td>\n",
       "      <td>0.722139</td>\n",
       "      <td>0</td>\n",
       "      <td>0</td>\n",
       "      <td>10</td>\n",
       "      <td>0</td>\n",
       "      <td>2</td>\n",
       "      <td>0</td>\n",
       "      <td>1</td>\n",
       "      <td>6.0</td>\n",
       "      <td>15200</td>\n",
       "    </tr>\n",
       "    <tr>\n",
       "      <th>2</th>\n",
       "      <td>1000001</td>\n",
       "      <td>-0.845799</td>\n",
       "      <td>0</td>\n",
       "      <td>0</td>\n",
       "      <td>10</td>\n",
       "      <td>0</td>\n",
       "      <td>2</td>\n",
       "      <td>0</td>\n",
       "      <td>12</td>\n",
       "      <td>9.0</td>\n",
       "      <td>1422</td>\n",
       "    </tr>\n",
       "    <tr>\n",
       "      <th>3</th>\n",
       "      <td>1000001</td>\n",
       "      <td>-0.869157</td>\n",
       "      <td>0</td>\n",
       "      <td>0</td>\n",
       "      <td>10</td>\n",
       "      <td>0</td>\n",
       "      <td>2</td>\n",
       "      <td>0</td>\n",
       "      <td>12</td>\n",
       "      <td>14.0</td>\n",
       "      <td>1057</td>\n",
       "    </tr>\n",
       "    <tr>\n",
       "      <th>4</th>\n",
       "      <td>1000002</td>\n",
       "      <td>1.077382</td>\n",
       "      <td>1</td>\n",
       "      <td>6</td>\n",
       "      <td>16</td>\n",
       "      <td>2</td>\n",
       "      <td>4</td>\n",
       "      <td>0</td>\n",
       "      <td>8</td>\n",
       "      <td>9.0</td>\n",
       "      <td>7969</td>\n",
       "    </tr>\n",
       "    <tr>\n",
       "      <th>...</th>\n",
       "      <td>...</td>\n",
       "      <td>...</td>\n",
       "      <td>...</td>\n",
       "      <td>...</td>\n",
       "      <td>...</td>\n",
       "      <td>...</td>\n",
       "      <td>...</td>\n",
       "      <td>...</td>\n",
       "      <td>...</td>\n",
       "      <td>...</td>\n",
       "      <td>...</td>\n",
       "    </tr>\n",
       "    <tr>\n",
       "      <th>550063</th>\n",
       "      <td>1006033</td>\n",
       "      <td>1.924156</td>\n",
       "      <td>1</td>\n",
       "      <td>5</td>\n",
       "      <td>13</td>\n",
       "      <td>1</td>\n",
       "      <td>1</td>\n",
       "      <td>1</td>\n",
       "      <td>20</td>\n",
       "      <td>9.0</td>\n",
       "      <td>368</td>\n",
       "    </tr>\n",
       "    <tr>\n",
       "      <th>550064</th>\n",
       "      <td>1006035</td>\n",
       "      <td>1.953267</td>\n",
       "      <td>0</td>\n",
       "      <td>2</td>\n",
       "      <td>1</td>\n",
       "      <td>2</td>\n",
       "      <td>3</td>\n",
       "      <td>0</td>\n",
       "      <td>20</td>\n",
       "      <td>9.0</td>\n",
       "      <td>371</td>\n",
       "    </tr>\n",
       "    <tr>\n",
       "      <th>550065</th>\n",
       "      <td>1006036</td>\n",
       "      <td>1.953267</td>\n",
       "      <td>0</td>\n",
       "      <td>2</td>\n",
       "      <td>15</td>\n",
       "      <td>1</td>\n",
       "      <td>4</td>\n",
       "      <td>1</td>\n",
       "      <td>20</td>\n",
       "      <td>9.0</td>\n",
       "      <td>137</td>\n",
       "    </tr>\n",
       "    <tr>\n",
       "      <th>550066</th>\n",
       "      <td>1006038</td>\n",
       "      <td>1.953267</td>\n",
       "      <td>0</td>\n",
       "      <td>6</td>\n",
       "      <td>1</td>\n",
       "      <td>2</td>\n",
       "      <td>2</td>\n",
       "      <td>0</td>\n",
       "      <td>20</td>\n",
       "      <td>9.0</td>\n",
       "      <td>365</td>\n",
       "    </tr>\n",
       "    <tr>\n",
       "      <th>550067</th>\n",
       "      <td>1006039</td>\n",
       "      <td>1.916360</td>\n",
       "      <td>0</td>\n",
       "      <td>4</td>\n",
       "      <td>0</td>\n",
       "      <td>1</td>\n",
       "      <td>4</td>\n",
       "      <td>1</td>\n",
       "      <td>20</td>\n",
       "      <td>9.0</td>\n",
       "      <td>490</td>\n",
       "    </tr>\n",
       "  </tbody>\n",
       "</table>\n",
       "<p>550068 rows × 11 columns</p>\n",
       "</div>"
      ],
      "text/plain": [
       "        User_ID  Product_ID  Gender  Age  Occupation City_Category  \\\n",
       "0       1000001   -1.028774       0    0          10             0   \n",
       "1       1000001    0.722139       0    0          10             0   \n",
       "2       1000001   -0.845799       0    0          10             0   \n",
       "3       1000001   -0.869157       0    0          10             0   \n",
       "4       1000002    1.077382       1    6          16             2   \n",
       "...         ...         ...     ...  ...         ...           ...   \n",
       "550063  1006033    1.924156       1    5          13             1   \n",
       "550064  1006035    1.953267       0    2           1             2   \n",
       "550065  1006036    1.953267       0    2          15             1   \n",
       "550066  1006038    1.953267       0    6           1             2   \n",
       "550067  1006039    1.916360       0    4           0             1   \n",
       "\n",
       "        Stay_In_Current_City_Years  Marital_Status  Product_Category_1  \\\n",
       "0                                2               0                   3   \n",
       "1                                2               0                   1   \n",
       "2                                2               0                  12   \n",
       "3                                2               0                  12   \n",
       "4                                4               0                   8   \n",
       "...                            ...             ...                 ...   \n",
       "550063                           1               1                  20   \n",
       "550064                           3               0                  20   \n",
       "550065                           4               1                  20   \n",
       "550066                           2               0                  20   \n",
       "550067                           4               1                  20   \n",
       "\n",
       "        Product_Category_2  Purchase  \n",
       "0                      9.0      8370  \n",
       "1                      6.0     15200  \n",
       "2                      9.0      1422  \n",
       "3                     14.0      1057  \n",
       "4                      9.0      7969  \n",
       "...                    ...       ...  \n",
       "550063                 9.0       368  \n",
       "550064                 9.0       371  \n",
       "550065                 9.0       137  \n",
       "550066                 9.0       365  \n",
       "550067                 9.0       490  \n",
       "\n",
       "[550068 rows x 11 columns]"
      ]
     },
     "execution_count": 141,
     "metadata": {},
     "output_type": "execute_result"
    }
   ],
   "source": [
    "train"
   ]
  },
  {
   "cell_type": "markdown",
   "metadata": {
    "id": "beQrUQCEhsEw"
   },
   "source": [
    "## ターゲットを対数変換"
   ]
  },
  {
   "cell_type": "code",
   "execution_count": 142,
   "metadata": {
    "executionInfo": {
     "elapsed": 5,
     "status": "ok",
     "timestamp": 1634575214093,
     "user": {
      "displayName": "真保勇佑",
      "photoUrl": "https://lh3.googleusercontent.com/a/default-user=s64",
      "userId": "05954062037845181310"
     },
     "user_tz": -540
    },
    "id": "QCAWk8wmheL8"
   },
   "outputs": [],
   "source": [
    "train['Purchase'] = np.log(train['Purchase'])"
   ]
  },
  {
   "cell_type": "markdown",
   "metadata": {
    "id": "KSw8QE3Rh2YR"
   },
   "source": [
    "### カテゴリ変数をダミー変数化"
   ]
  },
  {
   "cell_type": "code",
   "execution_count": 143,
   "metadata": {
    "colab": {
     "base_uri": "https://localhost:8080/",
     "height": 224
    },
    "executionInfo": {
     "elapsed": 5,
     "status": "ok",
     "timestamp": 1634575214094,
     "user": {
      "displayName": "真保勇佑",
      "photoUrl": "https://lh3.googleusercontent.com/a/default-user=s64",
      "userId": "05954062037845181310"
     },
     "user_tz": -540
    },
    "id": "09evJHLth0YN",
    "outputId": "73d8dedd-9321-4788-900b-df32d113ad0f"
   },
   "outputs": [
    {
     "data": {
      "text/html": [
       "<div>\n",
       "<style scoped>\n",
       "    .dataframe tbody tr th:only-of-type {\n",
       "        vertical-align: middle;\n",
       "    }\n",
       "\n",
       "    .dataframe tbody tr th {\n",
       "        vertical-align: top;\n",
       "    }\n",
       "\n",
       "    .dataframe thead th {\n",
       "        text-align: right;\n",
       "    }\n",
       "</style>\n",
       "<table border=\"1\" class=\"dataframe\">\n",
       "  <thead>\n",
       "    <tr style=\"text-align: right;\">\n",
       "      <th></th>\n",
       "      <th>User_ID</th>\n",
       "      <th>Product_ID</th>\n",
       "      <th>Gender</th>\n",
       "      <th>Age</th>\n",
       "      <th>Occupation</th>\n",
       "      <th>Stay_In_Current_City_Years</th>\n",
       "      <th>Marital_Status</th>\n",
       "      <th>Product_Category_1</th>\n",
       "      <th>Product_Category_2</th>\n",
       "      <th>Purchase</th>\n",
       "      <th>City_Category_0</th>\n",
       "      <th>City_Category_1</th>\n",
       "      <th>City_Category_2</th>\n",
       "    </tr>\n",
       "  </thead>\n",
       "  <tbody>\n",
       "    <tr>\n",
       "      <th>0</th>\n",
       "      <td>1000001</td>\n",
       "      <td>-1.028774</td>\n",
       "      <td>0</td>\n",
       "      <td>0</td>\n",
       "      <td>10</td>\n",
       "      <td>2</td>\n",
       "      <td>0</td>\n",
       "      <td>3</td>\n",
       "      <td>9.0</td>\n",
       "      <td>9.032409</td>\n",
       "      <td>1</td>\n",
       "      <td>0</td>\n",
       "      <td>0</td>\n",
       "    </tr>\n",
       "    <tr>\n",
       "      <th>1</th>\n",
       "      <td>1000001</td>\n",
       "      <td>0.722139</td>\n",
       "      <td>0</td>\n",
       "      <td>0</td>\n",
       "      <td>10</td>\n",
       "      <td>2</td>\n",
       "      <td>0</td>\n",
       "      <td>1</td>\n",
       "      <td>6.0</td>\n",
       "      <td>9.629051</td>\n",
       "      <td>1</td>\n",
       "      <td>0</td>\n",
       "      <td>0</td>\n",
       "    </tr>\n",
       "    <tr>\n",
       "      <th>2</th>\n",
       "      <td>1000001</td>\n",
       "      <td>-0.845799</td>\n",
       "      <td>0</td>\n",
       "      <td>0</td>\n",
       "      <td>10</td>\n",
       "      <td>2</td>\n",
       "      <td>0</td>\n",
       "      <td>12</td>\n",
       "      <td>9.0</td>\n",
       "      <td>7.259820</td>\n",
       "      <td>1</td>\n",
       "      <td>0</td>\n",
       "      <td>0</td>\n",
       "    </tr>\n",
       "    <tr>\n",
       "      <th>3</th>\n",
       "      <td>1000001</td>\n",
       "      <td>-0.869157</td>\n",
       "      <td>0</td>\n",
       "      <td>0</td>\n",
       "      <td>10</td>\n",
       "      <td>2</td>\n",
       "      <td>0</td>\n",
       "      <td>12</td>\n",
       "      <td>14.0</td>\n",
       "      <td>6.963190</td>\n",
       "      <td>1</td>\n",
       "      <td>0</td>\n",
       "      <td>0</td>\n",
       "    </tr>\n",
       "    <tr>\n",
       "      <th>4</th>\n",
       "      <td>1000002</td>\n",
       "      <td>1.077382</td>\n",
       "      <td>1</td>\n",
       "      <td>6</td>\n",
       "      <td>16</td>\n",
       "      <td>4</td>\n",
       "      <td>0</td>\n",
       "      <td>8</td>\n",
       "      <td>9.0</td>\n",
       "      <td>8.983314</td>\n",
       "      <td>0</td>\n",
       "      <td>0</td>\n",
       "      <td>1</td>\n",
       "    </tr>\n",
       "  </tbody>\n",
       "</table>\n",
       "</div>"
      ],
      "text/plain": [
       "   User_ID  Product_ID  Gender  Age  Occupation  Stay_In_Current_City_Years  \\\n",
       "0  1000001   -1.028774       0    0          10                           2   \n",
       "1  1000001    0.722139       0    0          10                           2   \n",
       "2  1000001   -0.845799       0    0          10                           2   \n",
       "3  1000001   -0.869157       0    0          10                           2   \n",
       "4  1000002    1.077382       1    6          16                           4   \n",
       "\n",
       "   Marital_Status  Product_Category_1  Product_Category_2  Purchase  \\\n",
       "0               0                   3                 9.0  9.032409   \n",
       "1               0                   1                 6.0  9.629051   \n",
       "2               0                  12                 9.0  7.259820   \n",
       "3               0                  12                14.0  6.963190   \n",
       "4               0                   8                 9.0  8.983314   \n",
       "\n",
       "   City_Category_0  City_Category_1  City_Category_2  \n",
       "0                1                0                0  \n",
       "1                1                0                0  \n",
       "2                1                0                0  \n",
       "3                1                0                0  \n",
       "4                0                0                1  "
      ]
     },
     "execution_count": 143,
     "metadata": {},
     "output_type": "execute_result"
    }
   ],
   "source": [
    "train = pd.get_dummies(train)\n",
    "train.head()"
   ]
  },
  {
   "cell_type": "code",
   "execution_count": 144,
   "metadata": {
    "executionInfo": {
     "elapsed": 4,
     "status": "ok",
     "timestamp": 1634575214094,
     "user": {
      "displayName": "真保勇佑",
      "photoUrl": "https://lh3.googleusercontent.com/a/default-user=s64",
      "userId": "05954062037845181310"
     },
     "user_tz": -540
    },
    "id": "QWKPRovNh-oN"
   },
   "outputs": [],
   "source": [
    "# 特徴量と目的変数を分ける\n",
    "X = train.drop('Purchase', axis=1)\n",
    "Y = train['Purchase']"
   ]
  },
  {
   "cell_type": "code",
   "execution_count": 145,
   "metadata": {
    "colab": {
     "base_uri": "https://localhost:8080/"
    },
    "executionInfo": {
     "elapsed": 305,
     "status": "ok",
     "timestamp": 1634575214395,
     "user": {
      "displayName": "真保勇佑",
      "photoUrl": "https://lh3.googleusercontent.com/a/default-user=s64",
      "userId": "05954062037845181310"
     },
     "user_tz": -540
    },
    "id": "PmOiKI9qiLa5",
    "outputId": "78b8c02d-3480-4413-aac2-6c0601afc0d3"
   },
   "outputs": [
    {
     "name": "stdout",
     "output_type": "stream",
     "text": [
      "(440054, 12) (110014, 12) (440054,) (110014,)\n"
     ]
    }
   ],
   "source": [
    "# 訓練と検証用に分割\n",
    "X_train,X_test,y_train,y_test = train_test_split(X,Y,test_size=0.2,random_state=1234)\n",
    "print(X_train.shape,X_test.shape,y_train.shape,y_test.shape)"
   ]
  },
  {
   "cell_type": "code",
   "execution_count": 146,
   "metadata": {
    "executionInfo": {
     "elapsed": 4,
     "status": "ok",
     "timestamp": 1634575214396,
     "user": {
      "displayName": "真保勇佑",
      "photoUrl": "https://lh3.googleusercontent.com/a/default-user=s64",
      "userId": "05954062037845181310"
     },
     "user_tz": -540
    },
    "id": "lpfWwiWPit9F"
   },
   "outputs": [],
   "source": [
    "## データを標準化\n",
    "sc = StandardScaler()\n",
    "X_train = sc.fit_transform(X_train)\n",
    "X_test = sc.fit_transform(X_test)"
   ]
  },
  {
   "cell_type": "code",
   "execution_count": 147,
   "metadata": {
    "colab": {
     "base_uri": "https://localhost:8080/"
    },
    "executionInfo": {
     "elapsed": 4,
     "status": "ok",
     "timestamp": 1634575214396,
     "user": {
      "displayName": "真保勇佑",
      "photoUrl": "https://lh3.googleusercontent.com/a/default-user=s64",
      "userId": "05954062037845181310"
     },
     "user_tz": -540
    },
    "id": "-LCru7RrlSal",
    "outputId": "c219d7d2-8efa-4a32-cbb8-d92c76b168e4"
   },
   "outputs": [
    {
     "data": {
      "text/plain": [
       "array([[-1.36232641, -1.21436012,  0.57285267, -1.10597459,  1.21582779,\n",
       "        -0.66528308,  1.20194133, -1.12043314, -0.37416631, -0.60675237,\n",
       "         1.17497313, -0.67160581],\n",
       "       [-0.86985315, -0.52895836,  0.57285267, -1.10597459,  0.29567739,\n",
       "        -0.66528308,  1.20194133,  0.6593667 , -0.13735344, -0.60675237,\n",
       "        -0.85108329,  1.48896866],\n",
       "       [ 1.69204947,  0.46409532,  0.57285267,  1.1122723 ,  0.44903579,\n",
       "         0.10999082,  1.20194133, -1.12043314, -1.79504351,  1.64811882,\n",
       "        -0.85108329, -0.67160581],\n",
       "       [ 1.73950283, -0.59224119, -1.74564954, -0.36655896,  1.06246939,\n",
       "         1.66053861,  1.20194133, -0.10340466,  1.04671089, -0.60675237,\n",
       "         1.17497313, -0.67160581],\n",
       "       [ 0.51786822,  0.75032845,  0.57285267, -0.36655896,  0.60239419,\n",
       "        -0.66528308,  1.20194133, -1.12043314, -1.79504351, -0.60675237,\n",
       "        -0.85108329,  1.48896866]])"
      ]
     },
     "execution_count": 147,
     "metadata": {},
     "output_type": "execute_result"
    }
   ],
   "source": [
    "X_train[:5]"
   ]
  },
  {
   "cell_type": "markdown",
   "metadata": {
    "id": "nOmDXzjhlpHi"
   },
   "source": [
    "## モデル構築"
   ]
  },
  {
   "cell_type": "markdown",
   "metadata": {
    "id": "AJQvAHXP7u-Z"
   },
   "source": [
    "モデルによる違いを出すために、3つのモデルで比較。<br>\n",
    "評価はR2とRMSEで行います。<br>\n",
    "モデルの当てはまり具合と差分の両方で評価していきます。"
   ]
  },
  {
   "cell_type": "markdown",
   "metadata": {
    "id": "0R9_tI7Glvqh"
   },
   "source": [
    "### 線形回帰モデル"
   ]
  },
  {
   "cell_type": "code",
   "execution_count": 148,
   "metadata": {
    "colab": {
     "base_uri": "https://localhost:8080/"
    },
    "executionInfo": {
     "elapsed": 442,
     "status": "ok",
     "timestamp": 1634575214836,
     "user": {
      "displayName": "真保勇佑",
      "photoUrl": "https://lh3.googleusercontent.com/a/default-user=s64",
      "userId": "05954062037845181310"
     },
     "user_tz": -540
    },
    "id": "VfaeKRYQlTcT",
    "outputId": "5aa33593-e04a-4901-cdf3-1b0d5e1c3579"
   },
   "outputs": [
    {
     "data": {
      "text/plain": [
       "LinearRegression()"
      ]
     },
     "execution_count": 148,
     "metadata": {},
     "output_type": "execute_result"
    }
   ],
   "source": [
    "linear = LinearRegression()\n",
    "linear.fit(X_train,y_train)"
   ]
  },
  {
   "cell_type": "code",
   "execution_count": 149,
   "metadata": {
    "executionInfo": {
     "elapsed": 5,
     "status": "ok",
     "timestamp": 1634575214836,
     "user": {
      "displayName": "真保勇佑",
      "photoUrl": "https://lh3.googleusercontent.com/a/default-user=s64",
      "userId": "05954062037845181310"
     },
     "user_tz": -540
    },
    "id": "fLT1DkOylzvl"
   },
   "outputs": [],
   "source": [
    "y_predict = linear.predict(X_test)"
   ]
  },
  {
   "cell_type": "code",
   "execution_count": 150,
   "metadata": {
    "colab": {
     "base_uri": "https://localhost:8080/"
    },
    "executionInfo": {
     "elapsed": 5,
     "status": "ok",
     "timestamp": 1634575214836,
     "user": {
      "displayName": "真保勇佑",
      "photoUrl": "https://lh3.googleusercontent.com/a/default-user=s64",
      "userId": "05954062037845181310"
     },
     "user_tz": -540
    },
    "id": "TIFMsA19l58U",
    "outputId": "7bceafaf-a2c5-4cf6-add6-cb5ffcb7af7b"
   },
   "outputs": [
    {
     "name": "stdout",
     "output_type": "stream",
     "text": [
      "r2_score: -1.2346387815366308e+19\n",
      "mse: 6.731166988083993e+18\n",
      "rmse: 2594449264.8891773\n"
     ]
    }
   ],
   "source": [
    "# モデル評価\n",
    "score=r2_score(y_test,y_predict)\n",
    "MSE = mean_squared_error(y_test,y_predict)\n",
    "RMSE = np.sqrt(mean_squared_error(y_test,y_predict))\n",
    "print('r2_score:',score)\n",
    "print('mse:',MSE)\n",
    "print('rmse:',RMSE)"
   ]
  },
  {
   "cell_type": "markdown",
   "metadata": {
    "id": "LRU0mjoenF8C"
   },
   "source": [
    "### 決定木モデル"
   ]
  },
  {
   "cell_type": "code",
   "execution_count": 151,
   "metadata": {
    "colab": {
     "base_uri": "https://localhost:8080/"
    },
    "executionInfo": {
     "elapsed": 4390,
     "status": "ok",
     "timestamp": 1634575219224,
     "user": {
      "displayName": "真保勇佑",
      "photoUrl": "https://lh3.googleusercontent.com/a/default-user=s64",
      "userId": "05954062037845181310"
     },
     "user_tz": -540
    },
    "id": "L_ff2PRRmmF2",
    "outputId": "8ca52982-ec01-4c44-fcb8-e92a83d5923f"
   },
   "outputs": [
    {
     "data": {
      "text/plain": [
       "DecisionTreeRegressor()"
      ]
     },
     "execution_count": 151,
     "metadata": {},
     "output_type": "execute_result"
    }
   ],
   "source": [
    "DT = DecisionTreeRegressor()\n",
    "DT.fit(X_train,y_train)"
   ]
  },
  {
   "cell_type": "code",
   "execution_count": 152,
   "metadata": {
    "executionInfo": {
     "elapsed": 380,
     "status": "ok",
     "timestamp": 1634575219596,
     "user": {
      "displayName": "真保勇佑",
      "photoUrl": "https://lh3.googleusercontent.com/a/default-user=s64",
      "userId": "05954062037845181310"
     },
     "user_tz": -540
    },
    "id": "f-4c3OOAnOYv"
   },
   "outputs": [],
   "source": [
    "y_predict_train = DT.predict(X_train)\n",
    "y_predict_test = DT.predict(X_test)"
   ]
  },
  {
   "cell_type": "code",
   "execution_count": 153,
   "metadata": {
    "colab": {
     "base_uri": "https://localhost:8080/"
    },
    "executionInfo": {
     "elapsed": 312,
     "status": "ok",
     "timestamp": 1634575219905,
     "user": {
      "displayName": "真保勇佑",
      "photoUrl": "https://lh3.googleusercontent.com/a/default-user=s64",
      "userId": "05954062037845181310"
     },
     "user_tz": -540
    },
    "id": "eoDbWwXBnTbp",
    "outputId": "927429db-ab05-4e99-caaa-7150dc1e5830"
   },
   "outputs": [
    {
     "name": "stdout",
     "output_type": "stream",
     "text": [
      "rmse_train: 0.0\n",
      "rmse_test: 0.546517860853009\n",
      "------------------------------\n",
      "DT Train Score: 1.0\n",
      "DT Train Score: 0.45215428470616226\n"
     ]
    }
   ],
   "source": [
    "# モデル評価(RMSEとR2)\n",
    "RMSE_TRAIN = np.sqrt(mean_squared_error(y_train,y_predict_train))\n",
    "RMSE_TEST = np.sqrt(mean_squared_error(y_test,y_predict_test))\n",
    "print('rmse_train:',RMSE_TRAIN)\n",
    "print('rmse_test:',RMSE_TEST)\n",
    "print('-'*30)\n",
    "print('DT Train Score:',DT.score(X_train,y_train))\n",
    "print('DT Train Score:',DT.score(X_test,y_test))"
   ]
  },
  {
   "cell_type": "markdown",
   "metadata": {
    "id": "CiVqR6wpoSUh"
   },
   "source": [
    "### ランダムフォレスト"
   ]
  },
  {
   "cell_type": "code",
   "execution_count": 154,
   "metadata": {
    "colab": {
     "base_uri": "https://localhost:8080/"
    },
    "executionInfo": {
     "elapsed": 281208,
     "status": "ok",
     "timestamp": 1634575580069,
     "user": {
      "displayName": "真保勇佑",
      "photoUrl": "https://lh3.googleusercontent.com/a/default-user=s64",
      "userId": "05954062037845181310"
     },
     "user_tz": -540
    },
    "id": "QTKj_FzGnwDr",
    "outputId": "5175b5be-bc1d-47ac-db26-484f916cace1"
   },
   "outputs": [
    {
     "data": {
      "text/plain": [
       "RandomForestRegressor()"
      ]
     },
     "execution_count": 154,
     "metadata": {},
     "output_type": "execute_result"
    }
   ],
   "source": [
    "RF = RandomForestRegressor()\n",
    "RF.fit(X_train,y_train)"
   ]
  },
  {
   "cell_type": "code",
   "execution_count": 155,
   "metadata": {
    "executionInfo": {
     "elapsed": 39342,
     "status": "ok",
     "timestamp": 1634575619409,
     "user": {
      "displayName": "真保勇佑",
      "photoUrl": "https://lh3.googleusercontent.com/a/default-user=s64",
      "userId": "05954062037845181310"
     },
     "user_tz": -540
    },
    "id": "wFeDsy_9ojJj"
   },
   "outputs": [],
   "source": [
    "y_predict_train1 = RF.predict(X_train)\n",
    "y_predict_test1 = RF.predict(X_test)"
   ]
  },
  {
   "cell_type": "code",
   "execution_count": 156,
   "metadata": {
    "colab": {
     "base_uri": "https://localhost:8080/"
    },
    "executionInfo": {
     "elapsed": 39228,
     "status": "ok",
     "timestamp": 1634575658628,
     "user": {
      "displayName": "真保勇佑",
      "photoUrl": "https://lh3.googleusercontent.com/a/default-user=s64",
      "userId": "05954062037845181310"
     },
     "user_tz": -540
    },
    "id": "SPnDDX1Vpk-9",
    "outputId": "c4b41d1c-0ae5-4c99-add6-004d089d305e"
   },
   "outputs": [
    {
     "name": "stdout",
     "output_type": "stream",
     "text": [
      "rmse_train: 0.13162643977125102\n",
      "rmse_test: 0.39644520987026566\n",
      "------------------------------\n",
      "RF Train Score: 0.9684273711271854\n",
      "RF Train Score: 0.7117190800058848\n"
     ]
    }
   ],
   "source": [
    "# モデル評価(RMSEとR2)\n",
    "RMSE_TRAIN = np.sqrt(mean_squared_error(y_train,y_predict_train1))\n",
    "RMSE_TEST = np.sqrt(mean_squared_error(y_test,y_predict_test1))\n",
    "print('rmse_train:',RMSE_TRAIN)\n",
    "print('rmse_test:',RMSE_TEST)\n",
    "print('-'*30)\n",
    "print('RF Train Score:',RF.score(X_train,y_train))\n",
    "print('RF Train Score:',RF.score(X_test,y_test))"
   ]
  },
  {
   "cell_type": "markdown",
   "metadata": {
    "id": "cbXCL-Ucq-ci"
   },
   "source": [
    "上記モデルだとランダムフォレストが一番良さそうですが、<br>\n",
    "訓練データのスコアから**過学習している**ことがわかるので、ここから改良を加える。"
   ]
  },
  {
   "cell_type": "markdown",
   "metadata": {
    "id": "3qpPnJAjrHu5"
   },
   "source": [
    "## パラメータチューニング"
   ]
  },
  {
   "cell_type": "markdown",
   "metadata": {
    "id": "2tMg1b0341Ko"
   },
   "source": [
    "上記の結果を見ると、決定木モデルでも過学習している。<br>\n",
    "ランダムフォレストも同様なので、**木構造に制限を加える**ことで過学習を抑えてみる<br>\n",
    "おそらく、枝分かれが多くて過学習をしてしまってるので、確かめてみる。"
   ]
  },
  {
   "cell_type": "markdown",
   "metadata": {},
   "source": [
    "ちなみにしっかりと検証をするため、GridSearchなどは使用しない。"
   ]
  },
  {
   "cell_type": "markdown",
   "metadata": {},
   "source": [
    "### ランダムフォレストのパラメータ調整"
   ]
  },
  {
   "cell_type": "code",
   "execution_count": 157,
   "metadata": {
    "executionInfo": {
     "elapsed": 482,
     "status": "ok",
     "timestamp": 1634576278665,
     "user": {
      "displayName": "真保勇佑",
      "photoUrl": "https://lh3.googleusercontent.com/a/default-user=s64",
      "userId": "05954062037845181310"
     },
     "user_tz": -540
    },
    "id": "pd93IumPp-JT"
   },
   "outputs": [
    {
     "data": {
      "text/plain": [
       "RandomForestRegressor(max_depth=7)"
      ]
     },
     "execution_count": 157,
     "metadata": {},
     "output_type": "execute_result"
    }
   ],
   "source": [
    "# インスタンスを立てるときにパラメータを設定\n",
    "# 木構造の深さの限度を変えています。\n",
    "RF_fix = RandomForestRegressor(max_depth=7, min_samples_leaf= 1,n_estimators= 100)\n",
    "RF_fix.fit(X_train,y_train)"
   ]
  },
  {
   "cell_type": "code",
   "execution_count": 158,
   "metadata": {
    "id": "dkj4esNZwpv7"
   },
   "outputs": [
    {
     "data": {
      "text/plain": [
       "RandomForestRegressor(max_depth=7)"
      ]
     },
     "execution_count": 158,
     "metadata": {},
     "output_type": "execute_result"
    }
   ],
   "source": [
    "RF_fix.fit(X_train, y_train)"
   ]
  },
  {
   "cell_type": "code",
   "execution_count": 159,
   "metadata": {
    "id": "P7070h8Kw_tW"
   },
   "outputs": [],
   "source": [
    "y_predict_train2 = RF_fix.predict(X_train)\n",
    "y_predict_test2 = RF_fix.predict(X_test)"
   ]
  },
  {
   "cell_type": "code",
   "execution_count": 160,
   "metadata": {
    "id": "l50mp48FxLpd"
   },
   "outputs": [
    {
     "name": "stdout",
     "output_type": "stream",
     "text": [
      "rmse_train: 0.3741649001973442\n",
      "rmse_test: 0.3787532048289919\n",
      "------------------------------\n",
      "RF Train Score: 0.7448764411274139\n",
      "RF Train Score: 0.7368749580252367\n"
     ]
    }
   ],
   "source": [
    "RMSE_TRAIN = np.sqrt(mean_squared_error(y_train,y_predict_train2))\n",
    "RMSE_TEST = np.sqrt(mean_squared_error(y_test,y_predict_test2))\n",
    "print('rmse_train:',RMSE_TRAIN)\n",
    "print('rmse_test:',RMSE_TEST)\n",
    "print('-'*30)\n",
    "print('RF Train Score:',RF_fix.score(X_train,y_train))\n",
    "print('RF Train Score:',RF_fix.score(X_test,y_test))"
   ]
  },
  {
   "cell_type": "markdown",
   "metadata": {},
   "source": [
    "しっかり訓練データとテストデータのギャップを解消しています。<br>\n",
    "さらにもともとの結果よりもよくなりました。"
   ]
  },
  {
   "cell_type": "markdown",
   "metadata": {},
   "source": [
    "さらに**深さを決定した上で学習器の数を増やせば精度が上がるか**も試しました。"
   ]
  },
  {
   "cell_type": "code",
   "execution_count": 161,
   "metadata": {},
   "outputs": [
    {
     "data": {
      "text/plain": [
       "RandomForestRegressor(max_depth=7, n_estimators=200)"
      ]
     },
     "execution_count": 161,
     "metadata": {},
     "output_type": "execute_result"
    }
   ],
   "source": [
    "RF_fix_1 = RandomForestRegressor(max_depth=7, min_samples_leaf= 1,n_estimators= 200)\n",
    "RF_fix_1.fit(X_train,y_train)"
   ]
  },
  {
   "cell_type": "code",
   "execution_count": 162,
   "metadata": {},
   "outputs": [
    {
     "data": {
      "text/plain": [
       "RandomForestRegressor(max_depth=7, n_estimators=200)"
      ]
     },
     "execution_count": 162,
     "metadata": {},
     "output_type": "execute_result"
    }
   ],
   "source": [
    "RF_fix_1.fit(X_train, y_train)"
   ]
  },
  {
   "cell_type": "code",
   "execution_count": 163,
   "metadata": {},
   "outputs": [],
   "source": [
    "y_predict_train3 = RF_fix_1.predict(X_train)\n",
    "y_predict_test3 = RF_fix_1.predict(X_test)"
   ]
  },
  {
   "cell_type": "code",
   "execution_count": 164,
   "metadata": {},
   "outputs": [
    {
     "name": "stdout",
     "output_type": "stream",
     "text": [
      "rmse_train: 0.3741710580387954\n",
      "rmse_test: 0.3788754166176322\n",
      "------------------------------\n",
      "RF Train Score: 0.7448680436355452\n",
      "RF Train Score: 0.7367051262211445\n"
     ]
    }
   ],
   "source": [
    "RMSE_TRAIN = np.sqrt(mean_squared_error(y_train,y_predict_train3))\n",
    "RMSE_TEST = np.sqrt(mean_squared_error(y_test,y_predict_test3))\n",
    "print('rmse_train:',RMSE_TRAIN)\n",
    "print('rmse_test:',RMSE_TEST)\n",
    "print('-'*30)\n",
    "print('RF Train Score:',RF_fix_1.score(X_train,y_train))\n",
    "print('RF Train Score:',RF_fix_1.score(X_test,y_test))"
   ]
  },
  {
   "cell_type": "markdown",
   "metadata": {},
   "source": [
    "学習器の数を増やしても、モデルは改善できませんでした。<br>\n",
    "学習器を増やしてもダメということは、モデルを変えるかデータを増やすかですが、<br>\n",
    "ここはデータを変えた時のモデルの変化を見ていたため、これ以上のモデルは試しません。"
   ]
  },
  {
   "cell_type": "markdown",
   "metadata": {
    "executionInfo": {
     "elapsed": 3,
     "status": "aborted",
     "timestamp": 1634576268852,
     "user": {
      "displayName": "真保勇佑",
      "photoUrl": "https://lh3.googleusercontent.com/a/default-user=s64",
      "userId": "05954062037845181310"
     },
     "user_tz": -540
    },
    "id": "aZFOyf1vDxrQ"
   },
   "source": [
    "### 決定木モデルでも検証"
   ]
  },
  {
   "cell_type": "markdown",
   "metadata": {},
   "source": [
    "決定木も構造は同じなので、同じように調整して過学習を改善できるかも検証します。"
   ]
  },
  {
   "cell_type": "code",
   "execution_count": 165,
   "metadata": {},
   "outputs": [
    {
     "data": {
      "text/plain": [
       "DecisionTreeRegressor(max_depth=7)"
      ]
     },
     "execution_count": 165,
     "metadata": {},
     "output_type": "execute_result"
    }
   ],
   "source": [
    "DT_fix = DecisionTreeRegressor(max_depth=7)\n",
    "DT_fix.fit(X_train,y_train)"
   ]
  },
  {
   "cell_type": "code",
   "execution_count": 166,
   "metadata": {},
   "outputs": [],
   "source": [
    "y_predict_train4 = DT_fix.predict(X_train)\n",
    "y_predict_test4 = DT_fix.predict(X_test)"
   ]
  },
  {
   "cell_type": "code",
   "execution_count": 167,
   "metadata": {},
   "outputs": [
    {
     "name": "stdout",
     "output_type": "stream",
     "text": [
      "rmse_train: 0.3752403999598221\n",
      "rmse_test: 0.387272208528483\n",
      "------------------------------\n",
      "DT Train Score: 0.7434076786995083\n",
      "DT Train Score: 0.7249053057385462\n"
     ]
    }
   ],
   "source": [
    "RMSE_TRAIN = np.sqrt(mean_squared_error(y_train,y_predict_train4))\n",
    "RMSE_TEST = np.sqrt(mean_squared_error(y_test,y_predict_test4))\n",
    "print('rmse_train:',RMSE_TRAIN)\n",
    "print('rmse_test:',RMSE_TEST)\n",
    "print('-'*30)\n",
    "print('DT Train Score:',DT_fix.score(X_train,y_train))\n",
    "print('DT Train Score:',DT_fix.score(X_test,y_test))"
   ]
  },
  {
   "cell_type": "markdown",
   "metadata": {},
   "source": [
    "ランダムフォレストとほとんど変わりません、シンプルなモデルでも同じくらい精度になりました。<br>\n",
    "計算速度も考えると決定木モデルを使うという選択肢もあります。"
   ]
  },
  {
   "cell_type": "markdown",
   "metadata": {},
   "source": [
    "## モデルとデータの保存"
   ]
  },
  {
   "cell_type": "markdown",
   "metadata": {},
   "source": [
    "他のノートブックでも違うモデルで楽に使えるように、<br>\n",
    "処理済みのデータとモデルを保存します。"
   ]
  },
  {
   "cell_type": "code",
   "execution_count": 173,
   "metadata": {},
   "outputs": [],
   "source": [
    "# モデルを保存\n",
    "filename = 'RF_fix_model.sav'\n",
    "pickle.dump(RF_fix, open(filename, 'wb'))"
   ]
  },
  {
   "cell_type": "code",
   "execution_count": 174,
   "metadata": {},
   "outputs": [],
   "source": [
    "train.to_csv('preprocessed_train.csv')"
   ]
  },
  {
   "cell_type": "code",
   "execution_count": null,
   "metadata": {},
   "outputs": [],
   "source": []
  }
 ],
 "metadata": {
  "colab": {
   "authorship_tag": "ABX9TyOFF9BBlWzJbu63ukhPQH2D",
   "collapsed_sections": [],
   "machine_shape": "hm",
   "mount_file_id": "1TmPM8MR-I9IGMW16eSfK7LuqmVhu6FIg",
   "name": "Kaggle-BlackFriday.ipynb",
   "provenance": []
  },
  "kernelspec": {
   "display_name": "Python 3 (ipykernel)",
   "language": "python",
   "name": "python3"
  },
  "language_info": {
   "codemirror_mode": {
    "name": "ipython",
    "version": 3
   },
   "file_extension": ".py",
   "mimetype": "text/x-python",
   "name": "python",
   "nbconvert_exporter": "python",
   "pygments_lexer": "ipython3",
   "version": "3.8.8"
  }
 },
 "nbformat": 4,
 "nbformat_minor": 1
}
